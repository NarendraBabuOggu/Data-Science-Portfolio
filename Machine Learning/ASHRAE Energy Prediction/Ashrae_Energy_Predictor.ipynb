{
 "cells": [
  {
   "cell_type": "code",
   "execution_count": 1,
   "metadata": {
    "_cell_guid": "79c7e3d0-c299-4dcb-8224-4455121ee9b0",
    "_uuid": "d629ff2d2480ee46fbb7e2d37f6b5fab8052498a"
   },
   "outputs": [
    {
     "data": {
      "text/plain": [
       "4"
      ]
     },
     "execution_count": 1,
     "metadata": {},
     "output_type": "execute_result"
    }
   ],
   "source": [
    "import numpy as np\n",
    "import pandas as pd\n",
    "from sklearn.model_selection import KFold #Cross-Validation\n",
    "from sklearn.metrics import mean_squared_error #MSE Error\n",
    "import lightgbm as lgb #Light Gradient Bossting Model\n",
    "from gc import collect # Garbage Collection\n",
    "from sklearn.preprocessing import LabelEncoder #Encoder for Categorical Features\n",
    "from sklearn.model_selection import train_test_split #Split the dataset into Train and Validation\n",
    "from sklearn.metrics import r2_score #R2 Metric\n",
    "import matplotlib.pyplot as plt\n",
    "%matplotlib inline\n",
    "collect()"
   ]
  },
  {
   "cell_type": "code",
   "execution_count": 2,
   "metadata": {},
   "outputs": [],
   "source": [
    "#Taken from Kaggle Kernels\n",
    "def reduce_mem_usage(df):\n",
    "    start_mem_usg = df.memory_usage().sum() / 1024**2 \n",
    "    print(\"Memory usage of properties dataframe is :\",start_mem_usg,\" MB\")\n",
    "    NAlist = [] # Keeps track of columns that have missing values filled in. \n",
    "    for col in df.columns:\n",
    "        if df[col].dtype != object or df[col].dtype != 'datetime64':  # Exclude strings and Datetimes           \n",
    "            # Print current column type\n",
    "            #print(\"******************************\")\n",
    "            #print(\"Column: \",col)\n",
    "            #print(\"dtype before: \",df[col].dtype)            \n",
    "            # make variables for Int, max and min\n",
    "            IsInt = False\n",
    "            mx = df[col].max()\n",
    "            mn = df[col].min()\n",
    "            #print(\"min for this col: \",mn)\n",
    "            #print(\"max for this col: \",mx)\n",
    "            # Integer does not support NA, therefore, NA needs to be filled\n",
    "            if not np.isfinite(df[col]).all(): \n",
    "                NAlist.append(col)\n",
    "                df[col].fillna(mn-1,inplace=True)  \n",
    "                   \n",
    "            # test if column can be converted to an integer\n",
    "            asint = df[col].fillna(0).astype(np.int64)\n",
    "            result = (df[col] - asint)\n",
    "            result = result.sum()\n",
    "            if result > -0.01 and result < 0.01:\n",
    "                IsInt = True            \n",
    "            # Make Integer/unsigned Integer datatypes\n",
    "            if IsInt:\n",
    "                if mn >= 0:\n",
    "                    if mx < 255:\n",
    "                        df[col] = df[col].astype(np.uint8)\n",
    "                    elif mx < 65535:\n",
    "                        df[col] = df[col].astype(np.uint16)\n",
    "                    elif mx < 4294967295:\n",
    "                        df[col] = df[col].astype(np.uint32)\n",
    "                    else:\n",
    "                        df[col] = df[col].astype(np.uint64)\n",
    "                else:\n",
    "                    if mn > np.iinfo(np.int8).min and mx < np.iinfo(np.int8).max:\n",
    "                        df[col] = df[col].astype(np.int8)\n",
    "                    elif mn > np.iinfo(np.int16).min and mx < np.iinfo(np.int16).max:\n",
    "                        df[col] = df[col].astype(np.int16)\n",
    "                    elif mn > np.iinfo(np.int32).min and mx < np.iinfo(np.int32).max:\n",
    "                        df[col] = df[col].astype(np.int32)\n",
    "                    elif mn > np.iinfo(np.int64).min and mx < np.iinfo(np.int64).max:\n",
    "                        df[col] = df[col].astype(np.int64)    \n",
    "            # Make float datatypes 32 bit\n",
    "            else: \n",
    "                df[col] = df[col].astype(np.float32)\n",
    "            \n",
    "            # Print new column type\n",
    "            #print(\"dtype after: \",df[col].dtype)\n",
    "            #print(\"******************************\")\n",
    "    # Print final result\n",
    "    print(\"___MEMORY USAGE AFTER COMPLETION:___\")\n",
    "    mem_usg = df.memory_usage().sum() / 1024**2 \n",
    "    print(\"Memory usage is: \",mem_usg,\" MB\")\n",
    "    print(\"This is \",100*mem_usg/start_mem_usg,\"% of the initial size\")\n",
    "    return df, NAlist"
   ]
  },
  {
   "cell_type": "code",
   "execution_count": 3,
   "metadata": {},
   "outputs": [],
   "source": [
    "weather_train_csv = pd.read_csv(r\"D:\\Narendra\\ASHRAE ENERGY PREDICTOR/weather_train.csv\")\n",
    "weather_test_csv = pd.read_csv(r\"D:\\Narendra\\ASHRAE ENERGY PREDICTOR/weather_test.csv\")"
   ]
  },
  {
   "cell_type": "code",
   "execution_count": 4,
   "metadata": {},
   "outputs": [],
   "source": [
    "weather_train_csv[\"newtimestamp\"] = pd.to_datetime(weather_train_csv[\"timestamp\"])\n",
    "weather_train_csv[\"hour\"] = weather_train_csv[\"newtimestamp\"].dt.hour.astype(int)\n",
    "weather_train_csv[\"day\"] = weather_train_csv[\"newtimestamp\"].dt.day.astype(int)\n",
    "weather_train_csv[\"weekend\"] = weather_train_csv[\"newtimestamp\"].dt.weekday.astype(int)\n",
    "weather_train_csv[\"month\"] = weather_train_csv[\"newtimestamp\"].dt.month.astype(int)\n",
    "weather_train_csv[\"year\"] = weather_train_csv[\"newtimestamp\"].dt.year.astype(int)\n",
    "weather_train_csv.drop('newtimestamp', axis=1, inplace=True)\n",
    "\n",
    "weather_test_csv[\"newtimestamp\"] = pd.to_datetime(weather_test_csv[\"timestamp\"])\n",
    "weather_test_csv[\"hour\"] = weather_test_csv[\"newtimestamp\"].dt.hour.astype(int)\n",
    "weather_test_csv[\"day\"] = weather_test_csv[\"newtimestamp\"].dt.day.astype(int)\n",
    "weather_test_csv[\"weekend\"] = weather_test_csv[\"newtimestamp\"].dt.weekday.astype(int)\n",
    "weather_test_csv[\"month\"] = weather_test_csv[\"newtimestamp\"].dt.month.astype(int)\n",
    "weather_test_csv[\"year\"] = weather_test_csv[\"newtimestamp\"].dt.year.astype(int)\n",
    "weather_test_csv.drop('newtimestamp', axis=1, inplace=True)"
   ]
  },
  {
   "cell_type": "code",
   "execution_count": 5,
   "metadata": {},
   "outputs": [],
   "source": [
    "#weather_train_csv['Season'] = \n",
    "def get_season(month, day):\n",
    "    if month in (1, 2, 3):\n",
    "        season = 1\n",
    "    elif month in (4, 5, 6):\n",
    "        season = 2\n",
    "    elif month in (7, 8, 9):\n",
    "        season = 3\n",
    "    else:\n",
    "        season = 4\n",
    "\n",
    "    if (month == 3) and (day > 19):\n",
    "        season = 2\n",
    "    elif (month == 6) and (day > 20):\n",
    "        season = 3\n",
    "    elif (month == 7) and (day > 21):\n",
    "        season = 4\n",
    "    elif (month == 12) and (day > 20):\n",
    "        season = 1\n",
    "    return season\n"
   ]
  },
  {
   "cell_type": "code",
   "execution_count": 6,
   "metadata": {},
   "outputs": [],
   "source": [
    "season = []\n",
    "for day, month in zip(weather_train_csv[\"month\"], weather_train_csv[\"day\"]):\n",
    "    season.append(get_season(month, day))\n",
    "weather_train_csv['season'] = season\n",
    "season = []\n",
    "for day, month in zip(weather_test_csv[\"month\"], weather_test_csv[\"day\"]):\n",
    "    season.append(get_season(month, day))\n",
    "weather_test_csv['season'] = season"
   ]
  },
  {
   "cell_type": "code",
   "execution_count": 7,
   "metadata": {},
   "outputs": [
    {
     "name": "stderr",
     "output_type": "stream",
     "text": [
      "D:\\Anaconda3\\lib\\site-packages\\numpy\\lib\\nanfunctions.py:1112: RuntimeWarning: Mean of empty slice\n",
      "  return np.nanmean(a, axis, out=out, keepdims=keepdims)\n"
     ]
    }
   ],
   "source": [
    "#Preprocessing (Fillina NaN values with mean value)\n",
    "for col in weather_train_csv.columns[weather_train_csv.isna().any()]:\n",
    "    #print(col)\n",
    "    weather_train_csv[col] = weather_train_csv.groupby(['site_id', 'year', 'month', 'day'])[col].apply(lambda x: x.fillna(x.median()))\n",
    "    weather_train_csv[col] = weather_train_csv[col].fillna(weather_train_csv[col].mean())\n",
    "    weather_test_csv[col] = weather_test_csv.groupby(['site_id', 'year', 'month', 'day'])[col].apply(lambda x: x.fillna(x.median()))\n",
    "    weather_test_csv[col] = weather_test_csv[col].fillna(weather_test_csv[col].mean())"
   ]
  },
  {
   "cell_type": "code",
   "execution_count": 8,
   "metadata": {},
   "outputs": [
    {
     "name": "stdout",
     "output_type": "stream",
     "text": [
      "Memory usage of properties dataframe is : 12.263530731201172  MB\n",
      "___MEMORY USAGE AFTER COMPLETION:___\n",
      "Memory usage is:  4.532251358032227  MB\n",
      "This is  36.95714926942828 % of the initial size\n",
      "Memory usage of properties dataframe is : 24.324878692626953  MB\n",
      "___MEMORY USAGE AFTER COMPLETION:___\n",
      "Memory usage is:  8.989706039428711  MB\n",
      "This is  36.95683811222276 % of the initial size\n"
     ]
    }
   ],
   "source": [
    "temp = weather_train_csv['timestamp']\n",
    "weather_train_csv, NAList = reduce_mem_usage(weather_train_csv.drop('timestamp', axis=1))\n",
    "weather_train_csv['timestamp'] = temp\n",
    "temp = weather_test_csv['timestamp']\n",
    "weather_test_csv, NAList = reduce_mem_usage(weather_test_csv.drop('timestamp', axis=1))\n",
    "weather_test_csv['timestamp'] = temp"
   ]
  },
  {
   "cell_type": "code",
   "execution_count": 9,
   "metadata": {},
   "outputs": [],
   "source": [
    "collect()\n",
    "train_csv = pd.read_csv(r\"D:\\Narendra\\ASHRAE ENERGY PREDICTOR/train.csv\")\n",
    "building_meta_data_csv = pd.read_csv(r\"D:\\Narendra\\ASHRAE ENERGY PREDICTOR/building_metadata.csv\")"
   ]
  },
  {
   "cell_type": "code",
   "execution_count": 10,
   "metadata": {},
   "outputs": [],
   "source": [
    "train_csv = train_csv.merge(building_meta_data_csv, on = 'building_id')\n",
    "train_csv = train_csv.merge(weather_train_csv, on = ['site_id', 'timestamp'])"
   ]
  },
  {
   "cell_type": "code",
   "execution_count": 11,
   "metadata": {},
   "outputs": [],
   "source": [
    "test_csv = pd.read_csv(r\"D:\\Narendra\\ASHRAE ENERGY PREDICTOR/test.csv\")\n",
    "test_csv = test_csv.merge(building_meta_data_csv, on = 'building_id')\n",
    "test_csv = test_csv.merge(weather_test_csv, on = ['site_id', 'timestamp'])"
   ]
  },
  {
   "cell_type": "code",
   "execution_count": 12,
   "metadata": {},
   "outputs": [
    {
     "data": {
      "text/plain": [
       "20"
      ]
     },
     "execution_count": 12,
     "metadata": {},
     "output_type": "execute_result"
    }
   ],
   "source": [
    "del weather_test_csv, weather_train_csv, building_meta_data_csv\n",
    "collect()"
   ]
  },
  {
   "cell_type": "code",
   "execution_count": 13,
   "metadata": {},
   "outputs": [],
   "source": [
    "le = LabelEncoder()\n",
    "train_csv[\"primary_use\"] = le.fit_transform(train_csv[\"primary_use\"])\n",
    "train_csv[\"primary_use\"] = train_csv[\"primary_use\"].astype(int)\n",
    "train_csv['square_feet'] = np.log(train_csv['square_feet'])\n",
    "\n",
    "test_csv[\"primary_use\"] = le.transform(test_csv[\"primary_use\"])\n",
    "test_csv[\"primary_use\"] = test_csv[\"primary_use\"].astype(int)\n",
    "test_csv['square_feet'] = np.log(test_csv['square_feet'])"
   ]
  },
  {
   "cell_type": "code",
   "execution_count": 14,
   "metadata": {},
   "outputs": [
    {
     "data": {
      "text/plain": [
       "0"
      ]
     },
     "execution_count": 14,
     "metadata": {},
     "output_type": "execute_result"
    }
   ],
   "source": [
    "holidays = [(2016, 1, 1), (2016, 1, 18), (2016, 2, 15), (2016, 5, 30), (2016, 7, 4), (2016, 9, 5), (2016, 10, 10), (2016, 11, 11), (2016, 11, 24), \n",
    "            (2016, 12, 25), (2016, 12, 26),\n",
    "            (2017, 1, 1), (2017, 1, 2), (2017, 1, 16), (2017, 2, 20), (2017, 5, 29), (2017, 7, 4), (2017, 9, 4), (2017, 10, 9), (2017, 11, 10), \n",
    "            (2017, 11, 11), (2017, 11, 23), (2017, 12, 25),\n",
    "            (2018, 1, 1), (2018, 1, 15), (2018, 2, 19), (2018, 5, 28), (2018, 7, 4), (2018, 9, 3), (2018, 10, 8), (2018, 11, 11), (2018, 11, 12), \n",
    "            (2018, 11, 22), (2018, 12, 25),\n",
    "            (2019, 1, 1), (2019, 1, 21), (2019, 2, 18), (2019, 5, 27), (2019, 7, 4), (2019, 9, 2), (2019, 10, 14), (2019, 11, 11), (2019, 11, 28), \n",
    "            (2019, 12, 25),\n",
    "            (2020, 1, 1), (2020, 1, 20), (2020, 2, 17), (2020, 5, 25), (2020, 7, 3), (2020, 7, 4), (2020, 9, 7), (2020, 10, 12), (2020, 11, 11), \n",
    "            (2020, 11, 26), (2020, 12, 25)]\n",
    "train_csv['isHoliday'] = 0\n",
    "test_csv['isHoliday'] = 0\n",
    "\n",
    "for item in holidays:\n",
    "    train_csv.loc[(train_csv['day']==item[2]) & (train_csv['month']==item[1]) & (train_csv['year']==item[0]), 'isHoliday'] = 1\n",
    "    test_csv.loc[(test_csv['day']==item[2]) & (test_csv['month']==item[1]) & (test_csv['year']==item[0]), 'isHoliday'] = 1\n",
    "train_csv.drop(columns=['year', 'day'], inplace=True)\n",
    "test_csv.drop(columns=['timestamp', 'year', 'day'], inplace=True)\n",
    "\n",
    "train_csv['meter_reading'] = np.log1p(train_csv['meter_reading'])\n",
    "collect()"
   ]
  },
  {
   "cell_type": "code",
   "execution_count": 15,
   "metadata": {},
   "outputs": [
    {
     "data": {
      "text/plain": [
       "<matplotlib.axes._subplots.AxesSubplot at 0x289e54f2f48>"
      ]
     },
     "execution_count": 15,
     "metadata": {},
     "output_type": "execute_result"
    },
    {
     "data": {
      "image/png": "[encoded data removed]",
      "text/plain": [
       "<Figure size 432x288 with 1 Axes>"
      ]
     },
     "metadata": {
      "needs_background": "light"
     },
     "output_type": "display_data"
    }
   ],
   "source": [
    "train_csv.groupby('year_built')['meter_reading'].agg(['mean', 'median']).plot(kind='bar')"
   ]
  },
  {
   "cell_type": "code",
   "execution_count": 16,
   "metadata": {},
   "outputs": [
    {
     "data": {
      "text/plain": [
       "Index(['building_id', 'meter', 'meter_reading', 'site_id', 'primary_use',\n",
       "       'square_feet', 'year_built', 'floor_count', 'air_temperature',\n",
       "       'cloud_coverage', 'dew_temperature', 'precip_depth_1_hr',\n",
       "       'sea_level_pressure', 'wind_direction', 'wind_speed', 'hour', 'weekend',\n",
       "       'month', 'season', 'isHoliday'],\n",
       "      dtype='object')"
      ]
     },
     "execution_count": 16,
     "metadata": {},
     "output_type": "execute_result"
    }
   ],
   "source": [
    "train_csv['timestamp'] = pd.to_datetime(train_csv['timestamp'])\n",
    "train_csv.set_index('timestamp', inplace=True)\n",
    "train_csv.columns"
   ]
  },
  {
   "cell_type": "code",
   "execution_count": 17,
   "metadata": {},
   "outputs": [],
   "source": [
    "building_df = train_csv.groupby(['building_id'])['meter_reading'].agg(['mean', 'median'])\n",
    "building_df.reset_index(inplace=True)\n",
    "building_df.columns = ['building_id', 'building_mean', 'building_median']\n",
    "site_df = train_csv.groupby(['site_id'])['meter_reading'].agg(['mean', 'median'])\n",
    "site_df.reset_index(inplace=True)\n",
    "site_df.columns = ['site_id', 'site_mean', 'site_median']\n",
    "primary_use_df = train_csv.groupby(['primary_use'])['meter_reading'].agg(['mean', 'median'])\n",
    "primary_use_df.reset_index(inplace=True)\n",
    "primary_use_df.columns = ['primary_use', 'primary_use_mean', 'primary_use_median']\n",
    "year_built_df = train_csv.groupby(['year_built'])['meter_reading'].agg(['mean', 'median'])\n",
    "year_built_df.reset_index(inplace=True)\n",
    "year_built_df.columns = ['year_built', 'year_built_mean', 'year_built_median']"
   ]
  },
  {
   "cell_type": "code",
   "execution_count": 18,
   "metadata": {},
   "outputs": [
    {
     "data": {
      "text/html": [
       "<div>\n",
       "<style scoped>\n",
       "    .dataframe tbody tr th:only-of-type {\n",
       "        vertical-align: middle;\n",
       "    }\n",
       "\n",
       "    .dataframe tbody tr th {\n",
       "        vertical-align: top;\n",
       "    }\n",
       "\n",
       "    .dataframe thead th {\n",
       "        text-align: right;\n",
       "    }\n",
       "</style>\n",
       "<table border=\"1\" class=\"dataframe\">\n",
       "  <thead>\n",
       "    <tr style=\"text-align: right;\">\n",
       "      <th></th>\n",
       "      <th>building_id</th>\n",
       "      <th>meter</th>\n",
       "      <th>meter_reading</th>\n",
       "      <th>site_id</th>\n",
       "      <th>primary_use</th>\n",
       "      <th>square_feet</th>\n",
       "      <th>year_built</th>\n",
       "      <th>floor_count</th>\n",
       "      <th>air_temperature</th>\n",
       "      <th>cloud_coverage</th>\n",
       "      <th>...</th>\n",
       "      <th>season</th>\n",
       "      <th>isHoliday</th>\n",
       "      <th>building_mean</th>\n",
       "      <th>building_median</th>\n",
       "      <th>site_mean</th>\n",
       "      <th>site_median</th>\n",
       "      <th>primary_use_mean</th>\n",
       "      <th>primary_use_median</th>\n",
       "      <th>year_built_mean</th>\n",
       "      <th>year_built_median</th>\n",
       "    </tr>\n",
       "  </thead>\n",
       "  <tbody>\n",
       "    <tr>\n",
       "      <th>0</th>\n",
       "      <td>0</td>\n",
       "      <td>0</td>\n",
       "      <td>0.0</td>\n",
       "      <td>0</td>\n",
       "      <td>0</td>\n",
       "      <td>8.91355</td>\n",
       "      <td>2008.0</td>\n",
       "      <td>NaN</td>\n",
       "      <td>25.000000</td>\n",
       "      <td>6.0</td>\n",
       "      <td>...</td>\n",
       "      <td>1</td>\n",
       "      <td>1</td>\n",
       "      <td>3.356302</td>\n",
       "      <td>5.250974</td>\n",
       "      <td>3.777701</td>\n",
       "      <td>4.836639</td>\n",
       "      <td>4.376656</td>\n",
       "      <td>4.679814</td>\n",
       "      <td>3.782392</td>\n",
       "      <td>4.010119</td>\n",
       "    </tr>\n",
       "    <tr>\n",
       "      <th>1</th>\n",
       "      <td>0</td>\n",
       "      <td>0</td>\n",
       "      <td>0.0</td>\n",
       "      <td>0</td>\n",
       "      <td>0</td>\n",
       "      <td>8.91355</td>\n",
       "      <td>2008.0</td>\n",
       "      <td>NaN</td>\n",
       "      <td>24.400000</td>\n",
       "      <td>6.0</td>\n",
       "      <td>...</td>\n",
       "      <td>1</td>\n",
       "      <td>1</td>\n",
       "      <td>3.356302</td>\n",
       "      <td>5.250974</td>\n",
       "      <td>3.777701</td>\n",
       "      <td>4.836639</td>\n",
       "      <td>4.376656</td>\n",
       "      <td>4.679814</td>\n",
       "      <td>3.782392</td>\n",
       "      <td>4.010119</td>\n",
       "    </tr>\n",
       "    <tr>\n",
       "      <th>2</th>\n",
       "      <td>0</td>\n",
       "      <td>0</td>\n",
       "      <td>0.0</td>\n",
       "      <td>0</td>\n",
       "      <td>0</td>\n",
       "      <td>8.91355</td>\n",
       "      <td>2008.0</td>\n",
       "      <td>NaN</td>\n",
       "      <td>22.799999</td>\n",
       "      <td>2.0</td>\n",
       "      <td>...</td>\n",
       "      <td>1</td>\n",
       "      <td>1</td>\n",
       "      <td>3.356302</td>\n",
       "      <td>5.250974</td>\n",
       "      <td>3.777701</td>\n",
       "      <td>4.836639</td>\n",
       "      <td>4.376656</td>\n",
       "      <td>4.679814</td>\n",
       "      <td>3.782392</td>\n",
       "      <td>4.010119</td>\n",
       "    </tr>\n",
       "    <tr>\n",
       "      <th>3</th>\n",
       "      <td>0</td>\n",
       "      <td>0</td>\n",
       "      <td>0.0</td>\n",
       "      <td>0</td>\n",
       "      <td>0</td>\n",
       "      <td>8.91355</td>\n",
       "      <td>2008.0</td>\n",
       "      <td>NaN</td>\n",
       "      <td>21.100000</td>\n",
       "      <td>2.0</td>\n",
       "      <td>...</td>\n",
       "      <td>1</td>\n",
       "      <td>1</td>\n",
       "      <td>3.356302</td>\n",
       "      <td>5.250974</td>\n",
       "      <td>3.777701</td>\n",
       "      <td>4.836639</td>\n",
       "      <td>4.376656</td>\n",
       "      <td>4.679814</td>\n",
       "      <td>3.782392</td>\n",
       "      <td>4.010119</td>\n",
       "    </tr>\n",
       "    <tr>\n",
       "      <th>4</th>\n",
       "      <td>0</td>\n",
       "      <td>0</td>\n",
       "      <td>0.0</td>\n",
       "      <td>0</td>\n",
       "      <td>0</td>\n",
       "      <td>8.91355</td>\n",
       "      <td>2008.0</td>\n",
       "      <td>NaN</td>\n",
       "      <td>20.000000</td>\n",
       "      <td>2.0</td>\n",
       "      <td>...</td>\n",
       "      <td>1</td>\n",
       "      <td>1</td>\n",
       "      <td>3.356302</td>\n",
       "      <td>5.250974</td>\n",
       "      <td>3.777701</td>\n",
       "      <td>4.836639</td>\n",
       "      <td>4.376656</td>\n",
       "      <td>4.679814</td>\n",
       "      <td>3.782392</td>\n",
       "      <td>4.010119</td>\n",
       "    </tr>\n",
       "  </tbody>\n",
       "</table>\n",
       "<p>5 rows × 28 columns</p>\n",
       "</div>"
      ],
      "text/plain": [
       "   building_id  meter  meter_reading  site_id  primary_use  square_feet  \\\n",
       "0            0      0            0.0        0            0      8.91355   \n",
       "1            0      0            0.0        0            0      8.91355   \n",
       "2            0      0            0.0        0            0      8.91355   \n",
       "3            0      0            0.0        0            0      8.91355   \n",
       "4            0      0            0.0        0            0      8.91355   \n",
       "\n",
       "   year_built  floor_count  air_temperature  cloud_coverage  ...  season  \\\n",
       "0      2008.0          NaN        25.000000             6.0  ...       1   \n",
       "1      2008.0          NaN        24.400000             6.0  ...       1   \n",
       "2      2008.0          NaN        22.799999             2.0  ...       1   \n",
       "3      2008.0          NaN        21.100000             2.0  ...       1   \n",
       "4      2008.0          NaN        20.000000             2.0  ...       1   \n",
       "\n",
       "   isHoliday  building_mean  building_median  site_mean  site_median  \\\n",
       "0          1       3.356302         5.250974   3.777701     4.836639   \n",
       "1          1       3.356302         5.250974   3.777701     4.836639   \n",
       "2          1       3.356302         5.250974   3.777701     4.836639   \n",
       "3          1       3.356302         5.250974   3.777701     4.836639   \n",
       "4          1       3.356302         5.250974   3.777701     4.836639   \n",
       "\n",
       "   primary_use_mean  primary_use_median  year_built_mean  year_built_median  \n",
       "0          4.376656            4.679814         3.782392           4.010119  \n",
       "1          4.376656            4.679814         3.782392           4.010119  \n",
       "2          4.376656            4.679814         3.782392           4.010119  \n",
       "3          4.376656            4.679814         3.782392           4.010119  \n",
       "4          4.376656            4.679814         3.782392           4.010119  \n",
       "\n",
       "[5 rows x 28 columns]"
      ]
     },
     "execution_count": 18,
     "metadata": {},
     "output_type": "execute_result"
    }
   ],
   "source": [
    "train_csv = train_csv.merge(building_df, on = 'building_id')\n",
    "train_csv = train_csv.merge(site_df, on = 'site_id')\n",
    "train_csv = train_csv.merge(primary_use_df, on = 'primary_use')\n",
    "train_csv = train_csv.merge(year_built_df, on = 'year_built')\n",
    "train_csv.head()"
   ]
  },
  {
   "cell_type": "code",
   "execution_count": 19,
   "metadata": {
    "scrolled": true
   },
   "outputs": [
    {
     "data": {
      "text/html": [
       "<div>\n",
       "<style scoped>\n",
       "    .dataframe tbody tr th:only-of-type {\n",
       "        vertical-align: middle;\n",
       "    }\n",
       "\n",
       "    .dataframe tbody tr th {\n",
       "        vertical-align: top;\n",
       "    }\n",
       "\n",
       "    .dataframe thead th {\n",
       "        text-align: right;\n",
       "    }\n",
       "</style>\n",
       "<table border=\"1\" class=\"dataframe\">\n",
       "  <thead>\n",
       "    <tr style=\"text-align: right;\">\n",
       "      <th></th>\n",
       "      <th>row_id</th>\n",
       "      <th>building_id</th>\n",
       "      <th>meter</th>\n",
       "      <th>site_id</th>\n",
       "      <th>primary_use</th>\n",
       "      <th>square_feet</th>\n",
       "      <th>year_built</th>\n",
       "      <th>floor_count</th>\n",
       "      <th>air_temperature</th>\n",
       "      <th>cloud_coverage</th>\n",
       "      <th>...</th>\n",
       "      <th>season</th>\n",
       "      <th>isHoliday</th>\n",
       "      <th>building_mean</th>\n",
       "      <th>building_median</th>\n",
       "      <th>site_mean</th>\n",
       "      <th>site_median</th>\n",
       "      <th>primary_use_mean</th>\n",
       "      <th>primary_use_median</th>\n",
       "      <th>year_built_mean</th>\n",
       "      <th>year_built_median</th>\n",
       "    </tr>\n",
       "  </thead>\n",
       "  <tbody>\n",
       "    <tr>\n",
       "      <th>0</th>\n",
       "      <td>0</td>\n",
       "      <td>0</td>\n",
       "      <td>0</td>\n",
       "      <td>0</td>\n",
       "      <td>0</td>\n",
       "      <td>8.91355</td>\n",
       "      <td>2008.0</td>\n",
       "      <td>NaN</td>\n",
       "      <td>17.799999</td>\n",
       "      <td>4.0</td>\n",
       "      <td>...</td>\n",
       "      <td>1</td>\n",
       "      <td>1</td>\n",
       "      <td>3.356302</td>\n",
       "      <td>5.250974</td>\n",
       "      <td>3.777701</td>\n",
       "      <td>4.836639</td>\n",
       "      <td>4.376656</td>\n",
       "      <td>4.679814</td>\n",
       "      <td>3.782392</td>\n",
       "      <td>4.010119</td>\n",
       "    </tr>\n",
       "    <tr>\n",
       "      <th>1</th>\n",
       "      <td>129</td>\n",
       "      <td>0</td>\n",
       "      <td>0</td>\n",
       "      <td>0</td>\n",
       "      <td>0</td>\n",
       "      <td>8.91355</td>\n",
       "      <td>2008.0</td>\n",
       "      <td>NaN</td>\n",
       "      <td>17.799999</td>\n",
       "      <td>2.0</td>\n",
       "      <td>...</td>\n",
       "      <td>1</td>\n",
       "      <td>1</td>\n",
       "      <td>3.356302</td>\n",
       "      <td>5.250974</td>\n",
       "      <td>3.777701</td>\n",
       "      <td>4.836639</td>\n",
       "      <td>4.376656</td>\n",
       "      <td>4.679814</td>\n",
       "      <td>3.782392</td>\n",
       "      <td>4.010119</td>\n",
       "    </tr>\n",
       "    <tr>\n",
       "      <th>2</th>\n",
       "      <td>258</td>\n",
       "      <td>0</td>\n",
       "      <td>0</td>\n",
       "      <td>0</td>\n",
       "      <td>0</td>\n",
       "      <td>8.91355</td>\n",
       "      <td>2008.0</td>\n",
       "      <td>NaN</td>\n",
       "      <td>16.100000</td>\n",
       "      <td>0.0</td>\n",
       "      <td>...</td>\n",
       "      <td>1</td>\n",
       "      <td>1</td>\n",
       "      <td>3.356302</td>\n",
       "      <td>5.250974</td>\n",
       "      <td>3.777701</td>\n",
       "      <td>4.836639</td>\n",
       "      <td>4.376656</td>\n",
       "      <td>4.679814</td>\n",
       "      <td>3.782392</td>\n",
       "      <td>4.010119</td>\n",
       "    </tr>\n",
       "    <tr>\n",
       "      <th>3</th>\n",
       "      <td>387</td>\n",
       "      <td>0</td>\n",
       "      <td>0</td>\n",
       "      <td>0</td>\n",
       "      <td>0</td>\n",
       "      <td>8.91355</td>\n",
       "      <td>2008.0</td>\n",
       "      <td>NaN</td>\n",
       "      <td>17.200001</td>\n",
       "      <td>0.0</td>\n",
       "      <td>...</td>\n",
       "      <td>1</td>\n",
       "      <td>1</td>\n",
       "      <td>3.356302</td>\n",
       "      <td>5.250974</td>\n",
       "      <td>3.777701</td>\n",
       "      <td>4.836639</td>\n",
       "      <td>4.376656</td>\n",
       "      <td>4.679814</td>\n",
       "      <td>3.782392</td>\n",
       "      <td>4.010119</td>\n",
       "    </tr>\n",
       "    <tr>\n",
       "      <th>4</th>\n",
       "      <td>516</td>\n",
       "      <td>0</td>\n",
       "      <td>0</td>\n",
       "      <td>0</td>\n",
       "      <td>0</td>\n",
       "      <td>8.91355</td>\n",
       "      <td>2008.0</td>\n",
       "      <td>NaN</td>\n",
       "      <td>16.700001</td>\n",
       "      <td>2.0</td>\n",
       "      <td>...</td>\n",
       "      <td>1</td>\n",
       "      <td>1</td>\n",
       "      <td>3.356302</td>\n",
       "      <td>5.250974</td>\n",
       "      <td>3.777701</td>\n",
       "      <td>4.836639</td>\n",
       "      <td>4.376656</td>\n",
       "      <td>4.679814</td>\n",
       "      <td>3.782392</td>\n",
       "      <td>4.010119</td>\n",
       "    </tr>\n",
       "  </tbody>\n",
       "</table>\n",
       "<p>5 rows × 28 columns</p>\n",
       "</div>"
      ],
      "text/plain": [
       "   row_id  building_id  meter  site_id  primary_use  square_feet  year_built  \\\n",
       "0       0            0      0        0            0      8.91355      2008.0   \n",
       "1     129            0      0        0            0      8.91355      2008.0   \n",
       "2     258            0      0        0            0      8.91355      2008.0   \n",
       "3     387            0      0        0            0      8.91355      2008.0   \n",
       "4     516            0      0        0            0      8.91355      2008.0   \n",
       "\n",
       "   floor_count  air_temperature  cloud_coverage  ...  season  isHoliday  \\\n",
       "0          NaN        17.799999             4.0  ...       1          1   \n",
       "1          NaN        17.799999             2.0  ...       1          1   \n",
       "2          NaN        16.100000             0.0  ...       1          1   \n",
       "3          NaN        17.200001             0.0  ...       1          1   \n",
       "4          NaN        16.700001             2.0  ...       1          1   \n",
       "\n",
       "   building_mean  building_median  site_mean  site_median  primary_use_mean  \\\n",
       "0       3.356302         5.250974   3.777701     4.836639          4.376656   \n",
       "1       3.356302         5.250974   3.777701     4.836639          4.376656   \n",
       "2       3.356302         5.250974   3.777701     4.836639          4.376656   \n",
       "3       3.356302         5.250974   3.777701     4.836639          4.376656   \n",
       "4       3.356302         5.250974   3.777701     4.836639          4.376656   \n",
       "\n",
       "   primary_use_median  year_built_mean  year_built_median  \n",
       "0            4.679814         3.782392           4.010119  \n",
       "1            4.679814         3.782392           4.010119  \n",
       "2            4.679814         3.782392           4.010119  \n",
       "3            4.679814         3.782392           4.010119  \n",
       "4            4.679814         3.782392           4.010119  \n",
       "\n",
       "[5 rows x 28 columns]"
      ]
     },
     "execution_count": 19,
     "metadata": {},
     "output_type": "execute_result"
    }
   ],
   "source": [
    "test_csv = test_csv.merge(building_df, on = 'building_id')\n",
    "test_csv = test_csv.merge(site_df, on = 'site_id')\n",
    "test_csv = test_csv.merge(primary_use_df, on = 'primary_use')\n",
    "test_csv = test_csv.merge(year_built_df, on = 'year_built')\n",
    "test_csv.head()"
   ]
  },
  {
   "cell_type": "code",
   "execution_count": 20,
   "metadata": {},
   "outputs": [],
   "source": [
    "categoricals = [\"hour\", \"season\", \"weekend\", \"month\", \"meter\", \"isHoliday\"]\n",
    "sparse_columns = [col for col in train_csv.columns if (col not in categoricals and col != 'meter_reading')]"
   ]
  },
  {
   "cell_type": "code",
   "execution_count": 21,
   "metadata": {},
   "outputs": [
    {
     "data": {
      "text/plain": [
       "['square_feet',\n",
       " 'floor_count',\n",
       " 'air_temperature',\n",
       " 'cloud_coverage',\n",
       " 'dew_temperature',\n",
       " 'precip_depth_1_hr',\n",
       " 'sea_level_pressure',\n",
       " 'wind_direction',\n",
       " 'wind_speed',\n",
       " 'building_mean',\n",
       " 'building_median',\n",
       " 'site_mean',\n",
       " 'site_median',\n",
       " 'primary_use_mean',\n",
       " 'primary_use_median',\n",
       " 'year_built_mean',\n",
       " 'year_built_median']"
      ]
     },
     "execution_count": 21,
     "metadata": {},
     "output_type": "execute_result"
    }
   ],
   "source": [
    "for col in ['building_id', 'site_id', 'primary_use', 'year_built']:\n",
    "    sparse_columns.remove(col)\n",
    "sparse_columns"
   ]
  },
  {
   "cell_type": "code",
   "execution_count": 22,
   "metadata": {},
   "outputs": [],
   "source": [
    "from sklearn.preprocessing import StandardScaler\n",
    "scale = StandardScaler().fit(train_csv[sparse_columns])\n",
    "train_csv[sparse_columns] = scale.transform(train_csv[sparse_columns])\n",
    "test_csv[sparse_columns] = scale.transform(test_csv[sparse_columns])"
   ]
  },
  {
   "cell_type": "code",
   "execution_count": 23,
   "metadata": {},
   "outputs": [
    {
     "data": {
      "text/plain": [
       "row_id                0\n",
       "building_id           0\n",
       "meter                 0\n",
       "site_id               0\n",
       "primary_use           0\n",
       "square_feet           0\n",
       "year_built            0\n",
       "floor_count           0\n",
       "air_temperature       0\n",
       "cloud_coverage        0\n",
       "dew_temperature       0\n",
       "precip_depth_1_hr     0\n",
       "sea_level_pressure    0\n",
       "wind_direction        0\n",
       "wind_speed            0\n",
       "hour                  0\n",
       "weekend               0\n",
       "month                 0\n",
       "season                0\n",
       "isHoliday             0\n",
       "building_mean         0\n",
       "building_median       0\n",
       "site_mean             0\n",
       "site_median           0\n",
       "primary_use_mean      0\n",
       "primary_use_median    0\n",
       "year_built_mean       0\n",
       "year_built_median     0\n",
       "dtype: int64"
      ]
     },
     "execution_count": 23,
     "metadata": {},
     "output_type": "execute_result"
    }
   ],
   "source": [
    "test_csv['floor_count'] = test_csv['floor_count'].fillna(-1)\n",
    "test_csv.isna().sum()"
   ]
  },
  {
   "cell_type": "code",
   "execution_count": 24,
   "metadata": {},
   "outputs": [
    {
     "name": "stdout",
     "output_type": "stream",
     "text": [
      "Memory usage of properties dataframe is : 1528.224754333496  MB\n",
      "___MEMORY USAGE AFTER COMPLETION:___\n",
      "Memory usage is:  702.9833869934082  MB\n",
      "This is  46.0 % of the initial size\n",
      "Memory usage of properties dataframe is : 3233.5208892822266  MB\n",
      "___MEMORY USAGE AFTER COMPLETION:___\n",
      "Memory usage is:  1487.4196090698242  MB\n",
      "This is  46.0 % of the initial size\n"
     ]
    }
   ],
   "source": [
    "collect()\n",
    "train_csv, NAList = reduce_mem_usage(train_csv)\n",
    "test_csv, NAList = reduce_mem_usage(test_csv)"
   ]
  },
  {
   "cell_type": "code",
   "execution_count": 25,
   "metadata": {},
   "outputs": [],
   "source": [
    "X, test_x, Y, test_y = train_test_split(train_csv[categoricals+sparse_columns], train_csv['meter_reading'], test_size = 0.25)"
   ]
  },
  {
   "cell_type": "code",
   "execution_count": 26,
   "metadata": {},
   "outputs": [
    {
     "data": {
      "text/plain": [
       "DecisionTreeRegressor(criterion='mse', max_depth=None, max_features=None,\n",
       "                      max_leaf_nodes=None, min_impurity_decrease=0.0,\n",
       "                      min_impurity_split=None, min_samples_leaf=1,\n",
       "                      min_samples_split=2, min_weight_fraction_leaf=0.0,\n",
       "                      presort=False, random_state=None, splitter='best')"
      ]
     },
     "execution_count": 26,
     "metadata": {},
     "output_type": "execute_result"
    }
   ],
   "source": [
    "from sklearn.tree import DecisionTreeRegressor\n",
    "dt_reg = DecisionTreeRegressor()\n",
    "dt_reg"
   ]
  },
  {
   "cell_type": "code",
   "execution_count": 27,
   "metadata": {},
   "outputs": [
    {
     "data": {
      "text/plain": [
       "array([0.94706386, 0.9456671 , 0.94642006, 0.94612932, 0.94674028,\n",
       "       0.9471214 , 0.94609392, 0.9479644 , 0.94604701, 0.94570512])"
      ]
     },
     "execution_count": 27,
     "metadata": {},
     "output_type": "execute_result"
    }
   ],
   "source": [
    "from sklearn.model_selection import cross_val_score\n",
    "res = cross_val_score(dt_reg, X, Y, cv=10)\n",
    "res"
   ]
  },
  {
   "cell_type": "code",
   "execution_count": 28,
   "metadata": {},
   "outputs": [
    {
     "data": {
      "text/plain": [
       "DecisionTreeRegressor(criterion='mse', max_depth=None, max_features=None,\n",
       "                      max_leaf_nodes=None, min_impurity_decrease=0.0,\n",
       "                      min_impurity_split=None, min_samples_leaf=1,\n",
       "                      min_samples_split=2, min_weight_fraction_leaf=0.0,\n",
       "                      presort=False, random_state=None, splitter='best')"
      ]
     },
     "execution_count": 28,
     "metadata": {},
     "output_type": "execute_result"
    }
   ],
   "source": [
    "dt_reg.fit(X, Y)"
   ]
  },
  {
   "cell_type": "code",
   "execution_count": 29,
   "metadata": {},
   "outputs": [
    {
     "data": {
      "text/plain": [
       "0.9481639248457586"
      ]
     },
     "execution_count": 29,
     "metadata": {},
     "output_type": "execute_result"
    }
   ],
   "source": [
    "dt_reg.score(test_x, test_y)"
   ]
  },
  {
   "cell_type": "code",
   "execution_count": 30,
   "metadata": {},
   "outputs": [
    {
     "name": "stdout",
     "output_type": "stream",
     "text": [
      "0.9616660764198923\n"
     ]
    }
   ],
   "source": [
    "predictions = np.expm1(dt_reg.predict(test_x))\n",
    "print(r2_score(predictions, np.expm1(test_y)))"
   ]
  },
  {
   "cell_type": "code",
   "execution_count": 31,
   "metadata": {},
   "outputs": [],
   "source": [
    "test_pred = np.expm1(dt_reg.predict(test_csv[categoricals+sparse_columns]))\n",
    "test_pred = np.where(test_pred<0, 0, test_pred)"
   ]
  },
  {
   "cell_type": "code",
   "execution_count": 32,
   "metadata": {},
   "outputs": [],
   "source": [
    "test_pred = pd.DataFrame(np.vstack((test_csv['row_id'], test_pred)).T, columns = ['row_id', 'meter_reading'])"
   ]
  },
  {
   "cell_type": "code",
   "execution_count": 33,
   "metadata": {},
   "outputs": [],
   "source": [
    "submission = pd.read_csv(r\"D:\\Narendra\\ASHRAE ENERGY PREDICTOR/sample_submission.csv\")"
   ]
  },
  {
   "cell_type": "code",
   "execution_count": 34,
   "metadata": {},
   "outputs": [],
   "source": [
    "submission = submission.merge(test_pred, on='row_id', how = 'left')"
   ]
  },
  {
   "cell_type": "code",
   "execution_count": 35,
   "metadata": {},
   "outputs": [],
   "source": [
    "submission.drop('meter_reading_x', axis=1, inplace=True)\n",
    "submission.rename(columns={'meter_reading_y':'meter_reading'}, inplace=True)"
   ]
  },
  {
   "cell_type": "code",
   "execution_count": 36,
   "metadata": {},
   "outputs": [
    {
     "data": {
      "text/plain": [
       "(row_id                  0\n",
       " meter_reading    24744638\n",
       " dtype: int64, (41697600, 2), (16952962, 28))"
      ]
     },
     "execution_count": 36,
     "metadata": {},
     "output_type": "execute_result"
    }
   ],
   "source": [
    "submission.isna().sum(), submission.shape, test_csv.shape"
   ]
  },
  {
   "cell_type": "code",
   "execution_count": 37,
   "metadata": {},
   "outputs": [],
   "source": [
    "submission['meter_reading'] = submission['meter_reading'].fillna(0)"
   ]
  },
  {
   "cell_type": "code",
   "execution_count": 38,
   "metadata": {},
   "outputs": [
    {
     "data": {
      "text/plain": [
       "(41697600, 2)"
      ]
     },
     "execution_count": 38,
     "metadata": {},
     "output_type": "execute_result"
    }
   ],
   "source": [
    "submission.to_csv(r\"D:\\Narendra\\ASHRAE ENERGY PREDICTOR/submission_dt.csv\", index=False)\n",
    "submission.shape"
   ]
  },
  {
   "cell_type": "code",
   "execution_count": 39,
   "metadata": {},
   "outputs": [
    {
     "name": "stderr",
     "output_type": "stream",
     "text": [
      "D:\\Anaconda3\\lib\\site-packages\\lightgbm\\basic.py:1243: UserWarning: Using categorical_feature in Dataset.\n",
      "  warnings.warn('Using categorical_feature in Dataset.')\n"
     ]
    },
    {
     "name": "stdout",
     "output_type": "stream",
     "text": [
      "Training until validation scores don't improve for 200 rounds\n",
      "[200]\ttraining's l1: 0.209902\ttraining's rmse: 0.395689\tvalid_1's l1: 0.223735\tvalid_1's rmse: 0.43492\n",
      "[400]\ttraining's l1: 0.185971\ttraining's rmse: 0.34826\tvalid_1's l1: 0.20919\tvalid_1's rmse: 0.413816\n",
      "[600]\ttraining's l1: 0.172518\ttraining's rmse: 0.318377\tvalid_1's l1: 0.203415\tvalid_1's rmse: 0.405145\n",
      "[800]\ttraining's l1: 0.162404\ttraining's rmse: 0.295688\tvalid_1's l1: 0.199895\tvalid_1's rmse: 0.399932\n",
      "[1000]\ttraining's l1: 0.154763\ttraining's rmse: 0.278336\tvalid_1's l1: 0.198103\tvalid_1's rmse: 0.397321\n",
      "[1200]\ttraining's l1: 0.147951\ttraining's rmse: 0.263225\tvalid_1's l1: 0.196561\tvalid_1's rmse: 0.395293\n",
      "[1400]\ttraining's l1: 0.142048\ttraining's rmse: 0.249896\tvalid_1's l1: 0.195495\tvalid_1's rmse: 0.393763\n",
      "[1600]\ttraining's l1: 0.136797\ttraining's rmse: 0.238375\tvalid_1's l1: 0.194805\tvalid_1's rmse: 0.392755\n",
      "[1800]\ttraining's l1: 0.132143\ttraining's rmse: 0.22829\tvalid_1's l1: 0.194298\tvalid_1's rmse: 0.392044\n",
      "[2000]\ttraining's l1: 0.127794\ttraining's rmse: 0.219036\tvalid_1's l1: 0.193831\tvalid_1's rmse: 0.391414\n",
      "Did not meet early stopping. Best iteration is:\n",
      "[2000]\ttraining's l1: 0.127794\ttraining's rmse: 0.219036\tvalid_1's l1: 0.193831\tvalid_1's rmse: 0.391414\n"
     ]
    }
   ],
   "source": [
    "params = {\n",
    "            'boosting_type': 'gbdt',\n",
    "            'objective': 'regression',\n",
    "            'metric': {'rmse', 'mae', 'r2'},\n",
    "            'subsample': 0.5,\n",
    "            'learning_rate': 0.35,\n",
    "            'feature_fraction': 0.9,\n",
    "            'bagging_fraction': 0.9,\n",
    "            'num_leaves': 2048,\n",
    "            'max_depth': 10,\n",
    "            'max_bin' : 256\n",
    "            }\n",
    "\n",
    "lgb_train = lgb.Dataset(X, Y, categorical_feature=categoricals)\n",
    "lgb_eval = lgb.Dataset(test_x, test_y, categorical_feature=categoricals)\n",
    "gbm = lgb.train(params,\n",
    "                lgb_train,\n",
    "                num_boost_round=2000,\n",
    "                valid_sets=(lgb_train, lgb_eval),\n",
    "               early_stopping_rounds=200,\n",
    "               verbose_eval = 200)\n",
    "    "
   ]
  },
  {
   "cell_type": "code",
   "execution_count": 40,
   "metadata": {},
   "outputs": [
    {
     "name": "stdout",
     "output_type": "stream",
     "text": [
      "0.8758610579366447\n"
     ]
    }
   ],
   "source": [
    "predictions = np.expm1(gbm.predict(test_x))\n",
    "print(r2_score(predictions, np.expm1(test_y)))"
   ]
  },
  {
   "cell_type": "code",
   "execution_count": 41,
   "metadata": {},
   "outputs": [
    {
     "name": "stderr",
     "output_type": "stream",
     "text": [
      "D:\\Anaconda3\\lib\\site-packages\\sklearn\\externals\\joblib\\__init__.py:15: DeprecationWarning: sklearn.externals.joblib is deprecated in 0.21 and will be removed in 0.23. Please import this functionality directly from joblib, which can be installed with: pip install joblib. If this warning is raised when loading pickled models, you may need to re-serialize those models with scikit-learn 0.21+.\n",
      "  warnings.warn(msg, category=DeprecationWarning)\n"
     ]
    },
    {
     "data": {
      "text/plain": [
       "['D:\\\\Narendra\\\\ASHRAE ENERGY PREDICTOR/lgb_v3.pkl']"
      ]
     },
     "execution_count": 41,
     "metadata": {},
     "output_type": "execute_result"
    }
   ],
   "source": [
    "from sklearn.externals import joblib\n",
    "# save model\n",
    "joblib.dump(gbm, r\"D:\\Narendra\\ASHRAE ENERGY PREDICTOR/lgb_v3.pkl\")"
   ]
  },
  {
   "cell_type": "code",
   "execution_count": 43,
   "metadata": {},
   "outputs": [
    {
     "ename": "KeyboardInterrupt",
     "evalue": "",
     "output_type": "error",
     "traceback": [
      "\u001b[1;31m---------------------------------------------------------------------------\u001b[0m",
      "\u001b[1;31mKeyboardInterrupt\u001b[0m                         Traceback (most recent call last)",
      "\u001b[1;32m<ipython-input-43-183d66253ed8>\u001b[0m in \u001b[0;36m<module>\u001b[1;34m\u001b[0m\n\u001b[1;32m----> 1\u001b[1;33m \u001b[0mpredictions\u001b[0m \u001b[1;33m=\u001b[0m \u001b[0mnp\u001b[0m\u001b[1;33m.\u001b[0m\u001b[0mexpm1\u001b[0m\u001b[1;33m(\u001b[0m\u001b[0mgbm_v2\u001b[0m\u001b[1;33m.\u001b[0m\u001b[0mpredict\u001b[0m\u001b[1;33m(\u001b[0m\u001b[0mtest_x\u001b[0m\u001b[1;33m)\u001b[0m\u001b[1;33m)\u001b[0m\u001b[1;33m\u001b[0m\u001b[1;33m\u001b[0m\u001b[0m\n\u001b[0m\u001b[0;32m      2\u001b[0m \u001b[0mprint\u001b[0m\u001b[1;33m(\u001b[0m\u001b[0mr2_score\u001b[0m\u001b[1;33m(\u001b[0m\u001b[0mpredictions\u001b[0m\u001b[1;33m,\u001b[0m \u001b[0mnp\u001b[0m\u001b[1;33m.\u001b[0m\u001b[0mexpm1\u001b[0m\u001b[1;33m(\u001b[0m\u001b[0mtest_y\u001b[0m\u001b[1;33m)\u001b[0m\u001b[1;33m)\u001b[0m\u001b[1;33m)\u001b[0m\u001b[1;33m\u001b[0m\u001b[1;33m\u001b[0m\u001b[0m\n",
      "\u001b[1;32mD:\\Anaconda3\\lib\\site-packages\\lightgbm\\basic.py\u001b[0m in \u001b[0;36mpredict\u001b[1;34m(self, data, num_iteration, raw_score, pred_leaf, pred_contrib, data_has_header, is_reshape, **kwargs)\u001b[0m\n\u001b[0;32m   2363\u001b[0m         return predictor.predict(data, num_iteration,\n\u001b[0;32m   2364\u001b[0m                                  \u001b[0mraw_score\u001b[0m\u001b[1;33m,\u001b[0m \u001b[0mpred_leaf\u001b[0m\u001b[1;33m,\u001b[0m \u001b[0mpred_contrib\u001b[0m\u001b[1;33m,\u001b[0m\u001b[1;33m\u001b[0m\u001b[1;33m\u001b[0m\u001b[0m\n\u001b[1;32m-> 2365\u001b[1;33m                                  data_has_header, is_reshape)\n\u001b[0m\u001b[0;32m   2366\u001b[0m \u001b[1;33m\u001b[0m\u001b[0m\n\u001b[0;32m   2367\u001b[0m     \u001b[1;32mdef\u001b[0m \u001b[0mrefit\u001b[0m\u001b[1;33m(\u001b[0m\u001b[0mself\u001b[0m\u001b[1;33m,\u001b[0m \u001b[0mdata\u001b[0m\u001b[1;33m,\u001b[0m \u001b[0mlabel\u001b[0m\u001b[1;33m,\u001b[0m \u001b[0mdecay_rate\u001b[0m\u001b[1;33m=\u001b[0m\u001b[1;36m0.9\u001b[0m\u001b[1;33m,\u001b[0m \u001b[1;33m**\u001b[0m\u001b[0mkwargs\u001b[0m\u001b[1;33m)\u001b[0m\u001b[1;33m:\u001b[0m\u001b[1;33m\u001b[0m\u001b[1;33m\u001b[0m\u001b[0m\n",
      "\u001b[1;32mD:\\Anaconda3\\lib\\site-packages\\lightgbm\\basic.py\u001b[0m in \u001b[0;36mpredict\u001b[1;34m(self, data, num_iteration, raw_score, pred_leaf, pred_contrib, data_has_header, is_reshape)\u001b[0m\n\u001b[0;32m    484\u001b[0m             \u001b[0mpreds\u001b[0m\u001b[1;33m,\u001b[0m \u001b[0mnrow\u001b[0m \u001b[1;33m=\u001b[0m \u001b[0mself\u001b[0m\u001b[1;33m.\u001b[0m\u001b[0m__pred_for_csc\u001b[0m\u001b[1;33m(\u001b[0m\u001b[0mdata\u001b[0m\u001b[1;33m,\u001b[0m \u001b[0mnum_iteration\u001b[0m\u001b[1;33m,\u001b[0m \u001b[0mpredict_type\u001b[0m\u001b[1;33m)\u001b[0m\u001b[1;33m\u001b[0m\u001b[1;33m\u001b[0m\u001b[0m\n\u001b[0;32m    485\u001b[0m         \u001b[1;32melif\u001b[0m \u001b[0misinstance\u001b[0m\u001b[1;33m(\u001b[0m\u001b[0mdata\u001b[0m\u001b[1;33m,\u001b[0m \u001b[0mnp\u001b[0m\u001b[1;33m.\u001b[0m\u001b[0mndarray\u001b[0m\u001b[1;33m)\u001b[0m\u001b[1;33m:\u001b[0m\u001b[1;33m\u001b[0m\u001b[1;33m\u001b[0m\u001b[0m\n\u001b[1;32m--> 486\u001b[1;33m             \u001b[0mpreds\u001b[0m\u001b[1;33m,\u001b[0m \u001b[0mnrow\u001b[0m \u001b[1;33m=\u001b[0m \u001b[0mself\u001b[0m\u001b[1;33m.\u001b[0m\u001b[0m__pred_for_np2d\u001b[0m\u001b[1;33m(\u001b[0m\u001b[0mdata\u001b[0m\u001b[1;33m,\u001b[0m \u001b[0mnum_iteration\u001b[0m\u001b[1;33m,\u001b[0m \u001b[0mpredict_type\u001b[0m\u001b[1;33m)\u001b[0m\u001b[1;33m\u001b[0m\u001b[1;33m\u001b[0m\u001b[0m\n\u001b[0m\u001b[0;32m    487\u001b[0m         \u001b[1;32melif\u001b[0m \u001b[0misinstance\u001b[0m\u001b[1;33m(\u001b[0m\u001b[0mdata\u001b[0m\u001b[1;33m,\u001b[0m \u001b[0mlist\u001b[0m\u001b[1;33m)\u001b[0m\u001b[1;33m:\u001b[0m\u001b[1;33m\u001b[0m\u001b[1;33m\u001b[0m\u001b[0m\n\u001b[0;32m    488\u001b[0m             \u001b[1;32mtry\u001b[0m\u001b[1;33m:\u001b[0m\u001b[1;33m\u001b[0m\u001b[1;33m\u001b[0m\u001b[0m\n",
      "\u001b[1;32mD:\\Anaconda3\\lib\\site-packages\\lightgbm\\basic.py\u001b[0m in \u001b[0;36m__pred_for_np2d\u001b[1;34m(self, mat, num_iteration, predict_type)\u001b[0m\n\u001b[0;32m    572\u001b[0m             \u001b[1;32mreturn\u001b[0m \u001b[0mpreds\u001b[0m\u001b[1;33m,\u001b[0m \u001b[0mnrow\u001b[0m\u001b[1;33m\u001b[0m\u001b[1;33m\u001b[0m\u001b[0m\n\u001b[0;32m    573\u001b[0m         \u001b[1;32melse\u001b[0m\u001b[1;33m:\u001b[0m\u001b[1;33m\u001b[0m\u001b[1;33m\u001b[0m\u001b[0m\n\u001b[1;32m--> 574\u001b[1;33m             \u001b[1;32mreturn\u001b[0m \u001b[0minner_predict\u001b[0m\u001b[1;33m(\u001b[0m\u001b[0mmat\u001b[0m\u001b[1;33m,\u001b[0m \u001b[0mnum_iteration\u001b[0m\u001b[1;33m,\u001b[0m \u001b[0mpredict_type\u001b[0m\u001b[1;33m)\u001b[0m\u001b[1;33m\u001b[0m\u001b[1;33m\u001b[0m\u001b[0m\n\u001b[0m\u001b[0;32m    575\u001b[0m \u001b[1;33m\u001b[0m\u001b[0m\n\u001b[0;32m    576\u001b[0m     \u001b[1;32mdef\u001b[0m \u001b[0m__pred_for_csr\u001b[0m\u001b[1;33m(\u001b[0m\u001b[0mself\u001b[0m\u001b[1;33m,\u001b[0m \u001b[0mcsr\u001b[0m\u001b[1;33m,\u001b[0m \u001b[0mnum_iteration\u001b[0m\u001b[1;33m,\u001b[0m \u001b[0mpredict_type\u001b[0m\u001b[1;33m)\u001b[0m\u001b[1;33m:\u001b[0m\u001b[1;33m\u001b[0m\u001b[1;33m\u001b[0m\u001b[0m\n",
      "\u001b[1;32mD:\\Anaconda3\\lib\\site-packages\\lightgbm\\basic.py\u001b[0m in \u001b[0;36minner_predict\u001b[1;34m(mat, num_iteration, predict_type, preds)\u001b[0m\n\u001b[0;32m    554\u001b[0m                 \u001b[0mc_str\u001b[0m\u001b[1;33m(\u001b[0m\u001b[0mself\u001b[0m\u001b[1;33m.\u001b[0m\u001b[0mpred_parameter\u001b[0m\u001b[1;33m)\u001b[0m\u001b[1;33m,\u001b[0m\u001b[1;33m\u001b[0m\u001b[1;33m\u001b[0m\u001b[0m\n\u001b[0;32m    555\u001b[0m                 \u001b[0mctypes\u001b[0m\u001b[1;33m.\u001b[0m\u001b[0mbyref\u001b[0m\u001b[1;33m(\u001b[0m\u001b[0mout_num_preds\u001b[0m\u001b[1;33m)\u001b[0m\u001b[1;33m,\u001b[0m\u001b[1;33m\u001b[0m\u001b[1;33m\u001b[0m\u001b[0m\n\u001b[1;32m--> 556\u001b[1;33m                 preds.ctypes.data_as(ctypes.POINTER(ctypes.c_double))))\n\u001b[0m\u001b[0;32m    557\u001b[0m             \u001b[1;32mif\u001b[0m \u001b[0mn_preds\u001b[0m \u001b[1;33m!=\u001b[0m \u001b[0mout_num_preds\u001b[0m\u001b[1;33m.\u001b[0m\u001b[0mvalue\u001b[0m\u001b[1;33m:\u001b[0m\u001b[1;33m\u001b[0m\u001b[1;33m\u001b[0m\u001b[0m\n\u001b[0;32m    558\u001b[0m                 \u001b[1;32mraise\u001b[0m \u001b[0mValueError\u001b[0m\u001b[1;33m(\u001b[0m\u001b[1;34m\"Wrong length for predict results\"\u001b[0m\u001b[1;33m)\u001b[0m\u001b[1;33m\u001b[0m\u001b[1;33m\u001b[0m\u001b[0m\n",
      "\u001b[1;31mKeyboardInterrupt\u001b[0m: "
     ]
    }
   ],
   "source": [
    "predictions = np.expm1(gbm.predict(test_x))\n",
    "print(r2_score(predictions, np.expm1(test_y)))"
   ]
  },
  {
   "cell_type": "code",
   "execution_count": null,
   "metadata": {},
   "outputs": [],
   "source": [
    "del train_csv\n",
    "collect()\n",
    "m = test_csv.shape\n",
    "print(m)"
   ]
  },
  {
   "cell_type": "code",
   "execution_count": null,
   "metadata": {},
   "outputs": [],
   "source": [
    "test_pred = np.array([])\n",
    "i=0\n",
    "for j in range(1000000,m[0], 1000000):\n",
    "    #print(i)\n",
    "    if i==0:\n",
    "        test_pred = np.expm1(gbm.predict(test_csv.loc[i:j-1, X.columns]))\n",
    "    else:\n",
    "        #print(ndarray.shape, new_pred[i].shape)\n",
    "        test_pred = np.vstack((test_pred, np.expm1(gbm.predict(test_csv.loc[i:j-1, X.columns]))))\n",
    "    i=j\n",
    "    print(i, test_pred.shape)\n",
    "print(test_pred.shape)\n",
    "print(j, len(test_pred))"
   ]
  },
  {
   "cell_type": "code",
   "execution_count": null,
   "metadata": {},
   "outputs": [],
   "source": [
    "test_pred = test_pred.flatten()\n",
    "test_pred = np.append(test_pred, np.expm1(gbm.predict(test_csv.loc[j:, X.columns])))"
   ]
  },
  {
   "cell_type": "code",
   "execution_count": null,
   "metadata": {},
   "outputs": [],
   "source": [
    "test_pred = np.where(test_pred<0,0,test_pred)"
   ]
  },
  {
   "cell_type": "code",
   "execution_count": null,
   "metadata": {},
   "outputs": [],
   "source": [
    "test_pred = pd.DataFrame(np.vstack((test_csv['row_id'], test_pred)).T, columns = ['row_id', 'meter_reading'])"
   ]
  },
  {
   "cell_type": "code",
   "execution_count": null,
   "metadata": {},
   "outputs": [],
   "source": [
    "submission = pd.read_csv(r\"D:\\Narendra\\ASHRAE ENERGY PREDICTOR/sample_submission.csv\")"
   ]
  },
  {
   "cell_type": "code",
   "execution_count": null,
   "metadata": {},
   "outputs": [],
   "source": [
    "submission = submission.merge(test_pred, on='row_id', how = 'left')"
   ]
  },
  {
   "cell_type": "code",
   "execution_count": null,
   "metadata": {},
   "outputs": [],
   "source": [
    "submission.drop('meter_reading_x', axis=1, inplace=True)\n",
    "submission.rename(columns={'meter_reading_y':'meter_reading'}, inplace=True)"
   ]
  },
  {
   "cell_type": "code",
   "execution_count": null,
   "metadata": {},
   "outputs": [],
   "source": [
    "submission.isna().sum(), submission.shape, test_csv.shape"
   ]
  },
  {
   "cell_type": "code",
   "execution_count": null,
   "metadata": {},
   "outputs": [],
   "source": [
    "submission['meter_reading'] = submission['meter_reading'].fillna(0)"
   ]
  },
  {
   "cell_type": "code",
   "execution_count": null,
   "metadata": {},
   "outputs": [],
   "source": [
    "submission.to_csv(r\"D:\\Narendra\\ASHRAE ENERGY PREDICTOR/submission.csv\", index=False)"
   ]
  },
  {
   "cell_type": "code",
   "execution_count": null,
   "metadata": {},
   "outputs": [],
   "source": []
  }
 ],
 "metadata": {
  "kernelspec": {
   "display_name": "Python 3",
   "language": "python",
   "name": "python3"
  },
  "language_info": {
   "codemirror_mode": {
    "name": "ipython",
    "version": 3
   },
   "file_extension": ".py",
   "mimetype": "text/x-python",
   "name": "python",
   "nbconvert_exporter": "python",
   "pygments_lexer": "ipython3",
   "version": "3.7.5"
  }
 },
 "nbformat": 4,
 "nbformat_minor": 1
}
